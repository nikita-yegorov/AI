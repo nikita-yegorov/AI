{
 "cells": [
  {
   "cell_type": "code",
   "execution_count": 1,
   "metadata": {},
   "outputs": [
    {
     "name": "stderr",
     "output_type": "stream",
     "text": [
      "[nltk_data] Downloading package punkt to\n",
      "[nltk_data]     C:\\Users\\Nikita\\AppData\\Roaming\\nltk_data...\n",
      "[nltk_data]   Package punkt is already up-to-date!\n"
     ]
    },
    {
     "data": {
      "text/plain": [
       "True"
      ]
     },
     "execution_count": 1,
     "metadata": {},
     "output_type": "execute_result"
    }
   ],
   "source": [
    "import logging\n",
    "from nltk import word_tokenize\n",
    "import pandas as pd\n",
    "import numpy as np\n",
    "import gc\n",
    "import os\n",
    "import torch\n",
    "from torch import nn\n",
    "from torch.autograd import Variable\n",
    "import torch.nn.functional as F\n",
    "from torch.nn.utils.rnn import pad_sequence\n",
    "from sklearn.metrics import f1_score\n",
    "from torch import optim\n",
    "import torchtext\n",
    "import random\n",
    "import matplotlib.pyplot as plt\n",
    "import copy, time\n",
    "\n",
    "import nltk\n",
    "nltk.download('punkt')\n"
   ]
  },
  {
   "cell_type": "code",
   "execution_count": 2,
   "metadata": {},
   "outputs": [
    {
     "name": "stderr",
     "output_type": "stream",
     "text": [
      "C:\\Users\\Nikita\\AppData\\Local\\Continuum\\anaconda3\\lib\\site-packages\\torchtext\\data\\field.py:150: UserWarning: Field class will be retired in the 0.8.0 release and moved to torchtext.legacy. Please see 0.7.0 release notes for further information.\n",
      "  warnings.warn('{} class will be retired in the 0.8.0 release and moved to torchtext.legacy. Please see 0.7.0 release notes for further information.'.format(self.__class__.__name__), UserWarning)\n"
     ]
    }
   ],
   "source": [
    "text = torchtext.data.Field(lower=True, batch_first=True, tokenize=word_tokenize)\n",
    "qid = torchtext.data.Field()"
   ]
  },
  {
   "cell_type": "code",
   "execution_count": 3,
   "metadata": {
    "scrolled": true
   },
   "outputs": [
    {
     "name": "stderr",
     "output_type": "stream",
     "text": [
      "C:\\Users\\Nikita\\AppData\\Local\\Continuum\\anaconda3\\lib\\site-packages\\torchtext\\data\\example.py:68: UserWarning: Example class will be retired in the 0.8.0 release and moved to torchtext.legacy. Please see 0.7.0 release notes for further information.\n",
      "  warnings.warn('Example class will be retired in the 0.8.0 release and moved to torchtext.legacy. Please see 0.7.0 release notes for further information.', UserWarning)\n",
      "C:\\Users\\Nikita\\AppData\\Local\\Continuum\\anaconda3\\lib\\site-packages\\torchtext\\data\\example.py:52: UserWarning: Example class will be retired in the 0.8.0 release and moved to torchtext.legacy. Please see 0.7.0 release notes for further information.\n",
      "  warnings.warn('Example class will be retired in the 0.8.0 release and moved to torchtext.legacy. Please see 0.7.0 release notes for further information.', UserWarning)\n"
     ]
    },
    {
     "name": "stdout",
     "output_type": "stream",
     "text": [
      "0.922158169746399\n"
     ]
    }
   ],
   "source": [
    "start = time.time()\n",
    "target = torchtext.data.Field(sequential=False, use_vocab=False, is_target=True)\n",
    "train = torchtext.data.TabularDataset(path='./data/train1.csv', format='csv',\n",
    "                                      \n",
    "                                     fields={'question_text': ('text',text),\n",
    "                                              'target': ('target',target)})\n",
    "test = torchtext.data.TabularDataset(path='./data/test.csv', format='csv',\n",
    "                                     fields={'qid': ('qid', qid),\n",
    "                                             'question_text': ('text', text)})\n",
    "end = time.time()\n",
    "print((end - start)/ 60)"
   ]
  },
  {
   "cell_type": "code",
   "execution_count": 4,
   "metadata": {},
   "outputs": [],
   "source": [
    "text.build_vocab(train, test, min_freq=3)\n",
    "qid.build_vocab(test)\n",
    "text.vocab.load_vectors(torchtext.vocab.Vectors(r\"C:\\Users\\Nikita\\PycharmProjects\\Sem_2\\data\\Quora\\embeddings\\wiki-news-300d-1M.vec\"))"
   ]
  },
  {
   "cell_type": "code",
   "execution_count": 5,
   "metadata": {},
   "outputs": [
    {
     "name": "stdout",
     "output_type": "stream",
     "text": [
      "torch.Size([38053, 300])\n"
     ]
    }
   ],
   "source": [
    "print(text.vocab.vectors.shape)"
   ]
  },
  {
   "cell_type": "code",
   "execution_count": 6,
   "metadata": {},
   "outputs": [],
   "source": [
    "random.seed(2020)\n",
    "train, val = train.split(split_ratio=0.9, random_state=random.getstate())"
   ]
  },
  {
   "cell_type": "code",
   "execution_count": 7,
   "metadata": {},
   "outputs": [],
   "source": [
    "class BiLSTM(nn.Module):\n",
    "    def __init__(self, pretrained_lm, padding_idx, static=True, hidden_dim=128, lstm_layer=2, dropout=0.2):\n",
    "        super(BiLSTM, self).__init__()\n",
    "        self.hidden_dim = hidden_dim\n",
    "        self.dropout = nn.Dropout(p=dropout)\n",
    "        self.embedding = nn.Embedding.from_pretrained(pretrained_lm)\n",
    "        self.embedding.padding_idx = padding_idx\n",
    "        if static:\n",
    "            self.embedding.weight.requires_grad = False\n",
    "        self.lstm = nn.LSTM(input_size=self.embedding.embedding_dim,\n",
    "                            hidden_size=hidden_dim,\n",
    "                            num_layers=lstm_layer,\n",
    "                            dropout=dropout,\n",
    "                            bidirectional=True)\n",
    "        self.hidden2label = nn.Linear(hidden_dim * lstm_layer * 2, 1)\n",
    "\n",
    "    def forward(self, sents):\n",
    "        x = self.embedding(sents)\n",
    "        x = torch.transpose(x, dim0=1, dim1=0)\n",
    "        lstm_out, (h_n, c_n) = self.lstm(x)\n",
    "        y = self.hidden2label(self.dropout(torch.cat([c_n[i, :, :] for i in range(c_n.shape[0])], dim=1)))\n",
    "        return y"
   ]
  },
  {
   "cell_type": "code",
   "execution_count": 8,
   "metadata": {},
   "outputs": [],
   "source": [
    "def training(num_epochs, model, loss_func, optimizer, train_iter, val_iter):\n",
    "    \n",
    "    step = 0\n",
    "    train_record = []\n",
    "    val_record = []\n",
    "     \n",
    "    for epoch in range(num_epochs):\n",
    "        tr_loss = []\n",
    "        for train_batch in iter(train_iter):\n",
    "            step += 1\n",
    "            model.train()\n",
    "            x = train_batch.text\n",
    "            y = train_batch.target.type(torch.Tensor)\n",
    "            model.zero_grad()\n",
    "            pred = model.forward(x)\n",
    "            loss = loss_function(pred.view(-1), y)\n",
    "            tr_loss.append(loss.cpu().data.numpy())\n",
    "            loss.backward()\n",
    "            optimizer.step()\n",
    "            \n",
    "            if step % 250 == 0 :\n",
    "                model.eval()\n",
    "                model.zero_grad()\n",
    "                val_loss = []\n",
    "                for val_batch in iter(val_iter):\n",
    "                    \n",
    "                    val_x = val_batch.text\n",
    "                    val_y = val_batch.target.type(torch.Tensor)\n",
    "                    val_pred = model.forward(val_x).view(-1)\n",
    "                    val_loss.append(loss_function(val_pred, val_y).cpu().data.numpy())\n",
    "                    \n",
    "                val_record.append({'step': step, 'loss': np.mean(val_loss)})\n",
    "                train_record.append({'step': step, 'loss':  np.mean(tr_loss)})\n",
    "\n",
    "                print('epoch {:02} - step {:06} - train_loss {:.4f} - val_loss {:.4f} '.format(\n",
    "                    epoch, step,  train_record[-1]['loss'], val_record[-1]['loss']))\n",
    "                \n",
    "    save(m=model, info={'step': step, 'num_epochs': num_epochs, 'train_loss': train_record[-1]['loss'],\n",
    "        'val_loss': val_record[-1]['loss'], 'tr_record':train_record,  'val_record':val_record})    \n",
    "    \n",
    "    return train_record, val_record\n"
   ]
  },
  {
   "cell_type": "code",
   "execution_count": 9,
   "metadata": {},
   "outputs": [],
   "source": [
    "def save(m, info):\n",
    "    torch.save(info, 'model.info')\n",
    "    torch.save(m, 'model.m')\n",
    "def load():\n",
    "    m = torch.load('model.m')\n",
    "    info = torch.load('model.info')\n",
    "    return m, info    "
   ]
  },
  {
   "cell_type": "code",
   "execution_count": 10,
   "metadata": {},
   "outputs": [],
   "source": [
    "batch_size = 256"
   ]
  },
  {
   "cell_type": "code",
   "execution_count": 11,
   "metadata": {},
   "outputs": [
    {
     "name": "stderr",
     "output_type": "stream",
     "text": [
      "C:\\Users\\Nikita\\AppData\\Local\\Continuum\\anaconda3\\lib\\site-packages\\torchtext\\data\\iterator.py:48: UserWarning: BucketIterator class will be retired in the 0.8.0 release and moved to torchtext.legacy. Please see 0.7.0 release notes for further information.\n",
      "  warnings.warn('{} class will be retired in the 0.8.0 release and moved to torchtext.legacy. Please see 0.7.0 release notes for further information.'.format(self.__class__.__name__), UserWarning)\n"
     ]
    }
   ],
   "source": [
    "train_iter = torchtext.data.BucketIterator(dataset=train,\n",
    "                                               batch_size=batch_size,\n",
    "                                               sort_key=lambda x: x.text.__len__(),\n",
    "                                               shuffle=True,\n",
    "                                               sort=False)\n",
    "val_iter = torchtext.data.BucketIterator(dataset=val,\n",
    "                                             batch_size=batch_size,\n",
    "                                             sort_key=lambda x: x.text.__len__(),\n",
    "                                             train=False,\n",
    "                                             sort=False)"
   ]
  },
  {
   "cell_type": "code",
   "execution_count": 12,
   "metadata": {},
   "outputs": [
    {
     "name": "stderr",
     "output_type": "stream",
     "text": [
      "C:\\Users\\Nikita\\AppData\\Local\\Continuum\\anaconda3\\lib\\site-packages\\torchtext\\data\\batch.py:23: UserWarning: Batch class will be retired in the 0.8.0 release and moved to torchtext.legacy. Please see 0.7.0 release notes for further information.\n",
      "  warnings.warn('{} class will be retired in the 0.8.0 release and moved to torchtext.legacy. Please see 0.7.0 release notes for further information.'.format(self.__class__.__name__), UserWarning)\n"
     ]
    },
    {
     "name": "stdout",
     "output_type": "stream",
     "text": [
      "1368\n"
     ]
    }
   ],
   "source": [
    "step = 0\n",
    "for train_batch in iter(train_iter):\n",
    "    step += 1\n",
    "for val_batch in iter(val_iter):\n",
    "    step += 1\n",
    "print(step)"
   ]
  },
  {
   "cell_type": "code",
   "execution_count": 13,
   "metadata": {},
   "outputs": [],
   "source": [
    "model = BiLSTM(text.vocab.vectors, lstm_layer=2, padding_idx=text.vocab.stoi[text.pad_token], hidden_dim=128)"
   ]
  },
  {
   "cell_type": "code",
   "execution_count": 14,
   "metadata": {},
   "outputs": [],
   "source": [
    "loss_function = nn.BCEWithLogitsLoss()"
   ]
  },
  {
   "cell_type": "code",
   "execution_count": 15,
   "metadata": {},
   "outputs": [],
   "source": [
    "num_epochs = 5"
   ]
  },
  {
   "cell_type": "code",
   "execution_count": 16,
   "metadata": {},
   "outputs": [],
   "source": [
    "optimizer = optim.Adam(filter(lambda p: p.requires_grad, model.parameters()),\n",
    "                    lr=0.001)"
   ]
  },
  {
   "cell_type": "code",
   "execution_count": 17,
   "metadata": {},
   "outputs": [
    {
     "name": "stdout",
     "output_type": "stream",
     "text": [
      "epoch 00 - step 000250 - train_loss 0.1631 - val_loss 0.1319 \n",
      "epoch 00 - step 000500 - train_loss 0.1478 - val_loss 0.1291 \n",
      "epoch 00 - step 000750 - train_loss 0.1409 - val_loss 0.1254 \n",
      "epoch 00 - step 001000 - train_loss 0.1357 - val_loss 0.1217 \n",
      "epoch 01 - step 001250 - train_loss 0.1268 - val_loss 0.1229 \n",
      "epoch 01 - step 001500 - train_loss 0.1214 - val_loss 0.1203 \n",
      "epoch 01 - step 001750 - train_loss 0.1200 - val_loss 0.1181 \n",
      "epoch 01 - step 002000 - train_loss 0.1190 - val_loss 0.1160 \n",
      "epoch 01 - step 002250 - train_loss 0.1181 - val_loss 0.1219 \n",
      "epoch 02 - step 002500 - train_loss 0.1042 - val_loss 0.1176 \n",
      "epoch 02 - step 002750 - train_loss 0.1110 - val_loss 0.1146 \n",
      "epoch 02 - step 003000 - train_loss 0.1107 - val_loss 0.1141 \n",
      "epoch 02 - step 003250 - train_loss 0.1106 - val_loss 0.1125 \n",
      "epoch 02 - step 003500 - train_loss 0.1112 - val_loss 0.1175 \n",
      "epoch 03 - step 003750 - train_loss 0.1106 - val_loss 0.1135 \n",
      "epoch 03 - step 004000 - train_loss 0.1089 - val_loss 0.1120 \n",
      "epoch 03 - step 004250 - train_loss 0.1082 - val_loss 0.1118 \n",
      "epoch 03 - step 004500 - train_loss 0.1074 - val_loss 0.1122 \n",
      "epoch 03 - step 004750 - train_loss 0.1069 - val_loss 0.1111 \n",
      "epoch 04 - step 005000 - train_loss 0.1034 - val_loss 0.1104 \n",
      "epoch 04 - step 005250 - train_loss 0.1016 - val_loss 0.1126 \n",
      "epoch 04 - step 005500 - train_loss 0.1026 - val_loss 0.1109 \n",
      "epoch 04 - step 005750 - train_loss 0.1034 - val_loss 0.1133 \n",
      "epoch 04 - step 006000 - train_loss 0.1033 - val_loss 0.1106 \n",
      "143.85099521080653\n"
     ]
    }
   ],
   "source": [
    "start = time.time()\n",
    "\n",
    "t_record, v_record = training(model=model, num_epochs=num_epochs, \n",
    "         loss_func=loss_function, optimizer=optimizer, train_iter=train_iter,\n",
    "        val_iter=val_iter)\n",
    "\n",
    "end = time.time()\n",
    "print((end - start)/ 60)"
   ]
  },
  {
   "cell_type": "code",
   "execution_count": null,
   "metadata": {},
   "outputs": [],
   "source": []
  },
  {
   "cell_type": "code",
   "execution_count": 18,
   "metadata": {},
   "outputs": [
    {
     "data": {
      "text/plain": [
       "[0.16314323,\n",
       " 0.14776018,\n",
       " 0.14092098,\n",
       " 0.13573563,\n",
       " 0.12678596,\n",
       " 0.12144829,\n",
       " 0.11995312,\n",
       " 0.11896224,\n",
       " 0.1180519,\n",
       " 0.104211785,\n",
       " 0.11102244,\n",
       " 0.11067675,\n",
       " 0.11063088,\n",
       " 0.11120291,\n",
       " 0.11058919,\n",
       " 0.108896025,\n",
       " 0.10817127,\n",
       " 0.107382946,\n",
       " 0.10689994,\n",
       " 0.103358544,\n",
       " 0.101557024,\n",
       " 0.102642946,\n",
       " 0.10336297,\n",
       " 0.10325315]"
      ]
     },
     "execution_count": 18,
     "metadata": {},
     "output_type": "execute_result"
    }
   ],
   "source": [
    "t = [ t_record[i]['loss']  for i in range(len(t_record))]\n",
    "v = [ v_record[i]['loss']  for i in range(len(t_record))]\n",
    "t"
   ]
  },
  {
   "cell_type": "code",
   "execution_count": 19,
   "metadata": {},
   "outputs": [
    {
     "data": {
      "image/png": "[encoded data removed]",
      "text/plain": [
       "<Figure size 432x288 with 1 Axes>"
      ]
     },
     "metadata": {
      "needs_background": "light"
     },
     "output_type": "display_data"
    }
   ],
   "source": [
    "x = np.arange(len(v))\n",
    "plt.plot(x, t, 'b', label='Training loss')\n",
    "plt.plot(x, v, 'r', label='Validation loss')\n",
    "plt.title('Training and validation loss')\n",
    "plt.xlabel('Epochs')\n",
    "plt.ylabel('Loss')\n",
    "plt.show()"
   ]
  },
  {
   "cell_type": "code",
   "execution_count": 20,
   "metadata": {},
   "outputs": [
    {
     "name": "stdout",
     "output_type": "stream",
     "text": [
      "{'step': 6155, 'num_epochs': 5, 'train_loss': 0.10325315, 'val_loss': 0.11055074, 'tr_record': [{'step': 250, 'loss': 0.16314323}, {'step': 500, 'loss': 0.14776018}, {'step': 750, 'loss': 0.14092098}, {'step': 1000, 'loss': 0.13573563}, {'step': 1250, 'loss': 0.12678596}, {'step': 1500, 'loss': 0.12144829}, {'step': 1750, 'loss': 0.11995312}, {'step': 2000, 'loss': 0.11896224}, {'step': 2250, 'loss': 0.1180519}, {'step': 2500, 'loss': 0.104211785}, {'step': 2750, 'loss': 0.11102244}, {'step': 3000, 'loss': 0.11067675}, {'step': 3250, 'loss': 0.11063088}, {'step': 3500, 'loss': 0.11120291}, {'step': 3750, 'loss': 0.11058919}, {'step': 4000, 'loss': 0.108896025}, {'step': 4250, 'loss': 0.10817127}, {'step': 4500, 'loss': 0.107382946}, {'step': 4750, 'loss': 0.10689994}, {'step': 5000, 'loss': 0.103358544}, {'step': 5250, 'loss': 0.101557024}, {'step': 5500, 'loss': 0.102642946}, {'step': 5750, 'loss': 0.10336297}, {'step': 6000, 'loss': 0.10325315}], 'val_record': [{'step': 250, 'loss': 0.13188185}, {'step': 500, 'loss': 0.12914452}, {'step': 750, 'loss': 0.12535092}, {'step': 1000, 'loss': 0.12172415}, {'step': 1250, 'loss': 0.12285798}, {'step': 1500, 'loss': 0.12027735}, {'step': 1750, 'loss': 0.118051864}, {'step': 2000, 'loss': 0.11599909}, {'step': 2250, 'loss': 0.12188442}, {'step': 2500, 'loss': 0.117625214}, {'step': 2750, 'loss': 0.11464705}, {'step': 3000, 'loss': 0.114089385}, {'step': 3250, 'loss': 0.112458445}, {'step': 3500, 'loss': 0.11748389}, {'step': 3750, 'loss': 0.11346081}, {'step': 4000, 'loss': 0.1119601}, {'step': 4250, 'loss': 0.11184265}, {'step': 4500, 'loss': 0.11223974}, {'step': 4750, 'loss': 0.11111474}, {'step': 5000, 'loss': 0.11044706}, {'step': 5250, 'loss': 0.112555355}, {'step': 5500, 'loss': 0.11088173}, {'step': 5750, 'loss': 0.11333047}, {'step': 6000, 'loss': 0.11055074}]}\n"
     ]
    }
   ],
   "source": [
    "bilstm_model, bilstm_info = load()\n",
    "print(bilstm_info)\n",
    "bilstm_model.lstm.flatten_parameters()"
   ]
  },
  {
   "cell_type": "code",
   "execution_count": 21,
   "metadata": {},
   "outputs": [],
   "source": [
    "bilstm_model.eval()\n",
    "val_pred = []\n",
    "val_true = []\n",
    "val_iter.init_epoch()\n",
    "for val_batch in iter(val_iter):\n",
    "    val_x = val_batch.text\n",
    "    val_true += val_batch.target.data.numpy().tolist()\n",
    "    val_pred += torch.sigmoid(bilstm_model.forward(val_x).view(-1)).cpu().data.numpy().tolist()\n"
   ]
  },
  {
   "cell_type": "code",
   "execution_count": 22,
   "metadata": {},
   "outputs": [
    {
     "name": "stdout",
     "output_type": "stream",
     "text": [
      "best threshold is 0.2300 with F1 score: 0.6468\n"
     ]
    }
   ],
   "source": [
    "tmp = [0,0,0] \n",
    "delta = 0\n",
    "for tmp[0] in np.arange(0.1, 0.501, 0.01):\n",
    "    tmp[1] = f1_score(val_true, np.array(val_pred)>tmp[0])\n",
    "    if tmp[1] > tmp[2]:\n",
    "        delta = tmp[0]\n",
    "        tmp[2] = tmp[1]\n",
    "print('best threshold is {:.4f} with F1 score: {:.4f}'.format(delta, tmp[2]))\n"
   ]
  },
  {
   "cell_type": "code",
   "execution_count": null,
   "metadata": {},
   "outputs": [],
   "source": []
  },
  {
   "cell_type": "code",
   "execution_count": null,
   "metadata": {},
   "outputs": [],
   "source": []
  },
  {
   "cell_type": "markdown",
   "metadata": {},
   "source": []
  },
  {
   "cell_type": "code",
   "execution_count": null,
   "metadata": {},
   "outputs": [],
   "source": []
  },
  {
   "cell_type": "code",
   "execution_count": null,
   "metadata": {},
   "outputs": [],
   "source": []
  }
 ],
 "metadata": {
  "kernelspec": {
   "display_name": "Python 3",
   "language": "python",
   "name": "python3"
  },
  "language_info": {
   "codemirror_mode": {
    "name": "ipython",
    "version": 3
   },
   "file_extension": ".py",
   "mimetype": "text/x-python",
   "name": "python",
   "nbconvert_exporter": "python",
   "pygments_lexer": "ipython3",
   "version": "3.6.10"
  }
 },
 "nbformat": 4,
 "nbformat_minor": 4
}
