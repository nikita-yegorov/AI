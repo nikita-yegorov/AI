{
 "cells": [
  {
   "cell_type": "code",
   "execution_count": 1,
   "metadata": {},
   "outputs": [],
   "source": [
    "import logging\n",
    "from nltk import word_tokenize\n",
    "import pandas as pd\n",
    "import numpy as np\n",
    "import gc\n",
    "import os\n",
    "import torch\n",
    "from torch import nn\n",
    "from torch.autograd import Variable\n",
    "import torch.nn.functional as F\n",
    "from torch.nn.utils.rnn import pad_sequence\n",
    "from sklearn.metrics import f1_score\n",
    "from torch import optim\n",
    "import torchtext\n",
    "import random\n",
    "import matplotlib.pyplot as plt\n",
    "import copy, time"
   ]
  },
  {
   "cell_type": "code",
   "execution_count": 2,
   "metadata": {},
   "outputs": [],
   "source": [
    "text = torchtext.data.Field(lower=True, batch_first=True, tokenize=word_tokenize)\n",
    "qid = torchtext.data.Field()"
   ]
  },
  {
   "cell_type": "code",
   "execution_count": 3,
   "metadata": {},
   "outputs": [
    {
     "name": "stdout",
     "output_type": "stream",
     "text": [
      "1.2833078384399415\n"
     ]
    }
   ],
   "source": [
    "start = time.time()\n",
    "target = torchtext.data.Field(sequential=False, use_vocab=False, is_target=True)\n",
    "train = torchtext.data.TabularDataset(path='./data/Quora/train2.csv', format='csv',\n",
    "                                      fields={'question_text': ('text',text),\n",
    "                                              'target': ('target',target)})\n",
    "test = torchtext.data.TabularDataset(path='./data/Quora/test.csv', format='csv',\n",
    "                                     fields={'qid': ('qid', qid),\n",
    "                                             'question_text': ('text', text)})\n",
    "end = time.time()\n",
    "print((end - start)/ 60)"
   ]
  },
  {
   "cell_type": "code",
   "execution_count": 4,
   "metadata": {},
   "outputs": [],
   "source": [
    "text.build_vocab(train, test, min_freq=3)\n",
    "qid.build_vocab(test)\n",
    "text.vocab.load_vectors(torchtext.vocab.\n",
    "                        Vectors(r'C:\\Users\\Nikita\\PycharmProjects\\Sem_2\\data\\glove.6B.50d.txt'))\n",
    "\n",
    "random.seed(2020)\n",
    "train, val = train.split(split_ratio=0.9, random_state=random.getstate())"
   ]
  },
  {
   "cell_type": "code",
   "execution_count": 5,
   "metadata": {},
   "outputs": [],
   "source": [
    "batch_size = 10"
   ]
  },
  {
   "cell_type": "code",
   "execution_count": 6,
   "metadata": {},
   "outputs": [],
   "source": [
    "train_iter = torchtext.data.BucketIterator(dataset=train,\n",
    "                                               batch_size=batch_size,\n",
    "                                               sort_key=lambda x: x.text.__len__(),\n",
    "                                               shuffle=True,\n",
    "                                               sort=False)\n",
    "val_iter = torchtext.data.BucketIterator(dataset=val,\n",
    "                                             batch_size=batch_size,\n",
    "                                             sort_key=lambda x: x.text.__len__(),\n",
    "                                             train=False,\n",
    "                                             sort=False)"
   ]
  },
  {
   "cell_type": "code",
   "execution_count": 7,
   "metadata": {},
   "outputs": [
    {
     "name": "stdout",
     "output_type": "stream",
     "text": [
      "35001\n"
     ]
    }
   ],
   "source": [
    "step = 0\n",
    "for train_batch in iter(train_iter):\n",
    "    step += 1\n",
    "for val_batch in iter(val_iter):\n",
    "    step += 1\n",
    "print(step)"
   ]
  },
  {
   "cell_type": "code",
   "execution_count": null,
   "metadata": {},
   "outputs": [],
   "source": []
  },
  {
   "cell_type": "code",
   "execution_count": 8,
   "metadata": {},
   "outputs": [],
   "source": [
    "class BiLSTM(nn.Module):\n",
    "    def __init__(self, pretrained_lm, padding_idx, static=True, hidden_dim=128, lstm_layer=2, dropout=0.2):\n",
    "        super(BiLSTM, self).__init__()\n",
    "        self.hidden_dim = hidden_dim\n",
    "        self.dropout = nn.Dropout(p=dropout)\n",
    "        self.embedding = nn.Embedding.from_pretrained(pretrained_lm)\n",
    "        self.embedding.padding_idx = padding_idx\n",
    "        if static:\n",
    "            self.embedding.weight.requires_grad = False\n",
    "        self.lstm = nn.LSTM(input_size=self.embedding.embedding_dim,\n",
    "                            hidden_size=hidden_dim,\n",
    "                            num_layers=lstm_layer,\n",
    "                            dropout=dropout,\n",
    "                            bidirectional=True)\n",
    "        self.hidden2label = nn.Linear(hidden_dim * lstm_layer * 2, 1)\n",
    "\n",
    "    def forward(self, sents):\n",
    "        x = self.embedding(sents)\n",
    "        x = torch.transpose(x, dim0=1, dim1=0)\n",
    "        lstm_out, (h_n, c_n) = self.lstm(x)\n",
    "        y = self.hidden2label(self.dropout(torch.cat([c_n[i, :, :] for i in range(c_n.shape[0])], dim=1)))\n",
    "        return y"
   ]
  },
  {
   "cell_type": "code",
   "execution_count": 9,
   "metadata": {},
   "outputs": [],
   "source": [
    "class SimpleLSTM(nn.Module):\n",
    "    def __init__(self, pretrained_lm, padding_idx,  hidden_dim=128, lstm_layer=2, dropout=0.2):\n",
    "        super().__init__()\n",
    "        self.hidden_dim = hidden_dim\n",
    "        self.embedding = nn.Embedding.from_pretrained(pretrained_lm)\n",
    "        self.embedding.padding_idx = padding_idx\n",
    "        self.embedding.weight.requires_grad = False\n",
    "        self.lstm = nn.LSTM(input_size=self.embedding.embedding_dim,\n",
    "                            hidden_size=hidden_dim,\n",
    "                            num_layers=lstm_layer,)\n",
    "        self.hidden2label = nn.Linear(hidden_dim * lstm_layer , 1)\n",
    "\n",
    "    def forward(self, sents):\n",
    "        x = self.embedding(sents)\n",
    "        x = torch.transpose(x, dim0=1, dim1=0)\n",
    "        lstm_out, (h_n, c_n) = self.lstm(x)\n",
    "        cat = torch.cat([c_n[i, :, :] for i in range(c_n.shape[0])], dim=1)\n",
    "        y = self.hidden2label(cat)\n",
    "        return y"
   ]
  },
  {
   "cell_type": "code",
   "execution_count": 10,
   "metadata": {},
   "outputs": [],
   "source": [
    "def load():\n",
    "    m = torch.load('model.m')\n",
    "    info = torch.load('model.info')\n",
    "    return m, info\n",
    "def save(m, info):\n",
    "    torch.save(info, 'dm_model1.info')\n",
    "    torch.save(m, 'dm_model1.m')"
   ]
  },
  {
   "cell_type": "code",
   "execution_count": 11,
   "metadata": {},
   "outputs": [],
   "source": [
    "bilstm_model, bilstm_info = load()\n"
   ]
  },
  {
   "cell_type": "code",
   "execution_count": 12,
   "metadata": {},
   "outputs": [],
   "source": [
    "def training(num_epochs, model, teacher_model, loss_func, optimizer, train_iter, val_iter):\n",
    "    \n",
    "    step = 0\n",
    "    train_record = []\n",
    "    val_record = []\n",
    "     \n",
    "    for epoch in range(num_epochs):\n",
    "        tr_loss = []\n",
    "        for train_batch in iter(train_iter):\n",
    "            step += 1\n",
    "            model.train()\n",
    "            teacher_model.train()\n",
    "            x = train_batch.text.cuda()\n",
    "            y = train_batch.target.type(torch.Tensor).cuda()\n",
    "            model.zero_grad()\n",
    "            pred = model.forward(x)\n",
    "            prob = teacher_model.forward(x).cuda()\n",
    "            loss = loss_function(pred.view(-1), prob.view(-1), y)\n",
    "            tr_loss.append(loss.cpu().data.numpy())\n",
    "            loss.backward()\n",
    "            optimizer.step()\n",
    "            \n",
    "            if step % 500 == 0 :\n",
    "                model.eval()\n",
    "                model.zero_grad()\n",
    "                val_loss = []\n",
    "                for val_batch in iter(val_iter):\n",
    "                    \n",
    "                    val_x = val_batch.text.cuda()\n",
    "                    val_y = val_batch.target.type(torch.Tensor).cuda()\n",
    "                    val_pred = model.forward(val_x).view(-1)\n",
    "                    val_prob = teacher_model.forward(val_x).view(-1)\n",
    "                    val_loss.append(loss_function(val_pred,val_prob, val_y).cpu().data.numpy())                    \n",
    "                val_record.append({'step': step, 'loss': np.mean(val_loss)})\n",
    "                train_record.append({'step': step, 'loss':  np.mean(tr_loss)})\n",
    "\n",
    "                print('epoch {:02} - step {:06} - train_loss {:.4f} - val_loss {:.4f} '.format(\n",
    "                    epoch, step,  train_record[-1]['loss'], val_record[-1]['loss']))\n",
    "    save(m=model, info={'step': step, 'num_epochs': num_epochs, 'train_loss': train_record[-1]['loss'],\n",
    "        'val_loss': val_record[-1]['loss'], 'tr_record':train_record,  'val_record':val_record})\n",
    "     \n",
    "    return train_record, val_record"
   ]
  },
  {
   "cell_type": "code",
   "execution_count": 13,
   "metadata": {},
   "outputs": [],
   "source": [
    "def loss_function(output, prob, real_label):\n",
    "    a = 0.5\n",
    "    criterion_mse = torch.nn.MSELoss()\n",
    "    criterion_bce = torch.nn.BCEWithLogitsLoss()\n",
    "    return a*criterion_bce(output, real_label) + (1-a)*criterion_mse(output, prob)"
   ]
  },
  {
   "cell_type": "code",
   "execution_count": 14,
   "metadata": {},
   "outputs": [],
   "source": [
    "LSTM_model = SimpleLSTM(text.vocab.vectors, lstm_layer=1, padding_idx=text.vocab.stoi[text.pad_token], \n",
    "                        hidden_dim=128).cuda()"
   ]
  },
  {
   "cell_type": "code",
   "execution_count": 15,
   "metadata": {},
   "outputs": [],
   "source": [
    "optimizer = optim.Adam(filter(lambda p: p.requires_grad, LSTM_model.parameters()),\n",
    "                    lr=0.002)"
   ]
  },
  {
   "cell_type": "code",
   "execution_count": 16,
   "metadata": {},
   "outputs": [],
   "source": [
    "num_epochs = 3"
   ]
  },
  {
   "cell_type": "code",
   "execution_count": 17,
   "metadata": {},
   "outputs": [
    {
     "name": "stdout",
     "output_type": "stream",
     "text": [
      "epoch 00 - step 000500 - train_loss 3.0300 - val_loss 2.4937 \n",
      "epoch 00 - step 001000 - train_loss 2.7387 - val_loss 2.7835 \n",
      "epoch 00 - step 001500 - train_loss 2.3866 - val_loss 1.1440 \n",
      "epoch 00 - step 002000 - train_loss 2.0457 - val_loss 1.1578 \n",
      "epoch 00 - step 002500 - train_loss 1.8283 - val_loss 0.9066 \n",
      "epoch 00 - step 003000 - train_loss 1.6791 - val_loss 0.8524 \n",
      "epoch 00 - step 003500 - train_loss 1.5641 - val_loss 0.8488 \n",
      "epoch 00 - step 004000 - train_loss 1.4712 - val_loss 0.7821 \n",
      "epoch 00 - step 004500 - train_loss 1.3934 - val_loss 0.8233 \n",
      "epoch 00 - step 005000 - train_loss 1.3330 - val_loss 0.7374 \n",
      "epoch 00 - step 005500 - train_loss 1.2811 - val_loss 0.6829 \n",
      "epoch 00 - step 006000 - train_loss 1.2316 - val_loss 0.6897 \n",
      "epoch 00 - step 006500 - train_loss 1.1895 - val_loss 0.6422 \n",
      "epoch 00 - step 007000 - train_loss 1.1530 - val_loss 0.6373 \n",
      "epoch 00 - step 007500 - train_loss 1.1191 - val_loss 0.6233 \n",
      "epoch 00 - step 008000 - train_loss 1.0886 - val_loss 0.6858 \n",
      "epoch 00 - step 008500 - train_loss 1.0625 - val_loss 0.5771 \n",
      "epoch 00 - step 009000 - train_loss 1.0355 - val_loss 0.5750 \n",
      "epoch 00 - step 009500 - train_loss 1.0115 - val_loss 0.5971 \n",
      "epoch 00 - step 010000 - train_loss 0.9888 - val_loss 0.5499 \n",
      "epoch 00 - step 010500 - train_loss 0.9676 - val_loss 0.5405 \n",
      "epoch 00 - step 011000 - train_loss 0.9500 - val_loss 0.5452 \n",
      "epoch 00 - step 011500 - train_loss 0.9317 - val_loss 0.5286 \n",
      "epoch 00 - step 012000 - train_loss 0.9144 - val_loss 0.5066 \n",
      "epoch 00 - step 012500 - train_loss 0.8989 - val_loss 0.4945 \n",
      "epoch 00 - step 013000 - train_loss 0.8845 - val_loss 0.5529 \n",
      "epoch 00 - step 013500 - train_loss 0.8706 - val_loss 0.5230 \n",
      "epoch 00 - step 014000 - train_loss 0.8568 - val_loss 0.4826 \n",
      "epoch 00 - step 014500 - train_loss 0.8433 - val_loss 0.4992 \n",
      "epoch 00 - step 015000 - train_loss 0.8311 - val_loss 0.4656 \n",
      "epoch 00 - step 015500 - train_loss 0.8195 - val_loss 0.4691 \n",
      "epoch 00 - step 016000 - train_loss 0.8085 - val_loss 0.4863 \n",
      "epoch 00 - step 016500 - train_loss 0.7986 - val_loss 0.5054 \n",
      "epoch 00 - step 017000 - train_loss 0.7886 - val_loss 0.4664 \n",
      "epoch 00 - step 017500 - train_loss 0.7791 - val_loss 0.4480 \n",
      "epoch 00 - step 018000 - train_loss 0.7695 - val_loss 0.4862 \n",
      "epoch 00 - step 018500 - train_loss 0.7617 - val_loss 0.4493 \n",
      "epoch 00 - step 019000 - train_loss 0.7528 - val_loss 0.4666 \n",
      "epoch 00 - step 019500 - train_loss 0.7452 - val_loss 0.4577 \n",
      "epoch 00 - step 020000 - train_loss 0.7376 - val_loss 0.4429 \n",
      "epoch 00 - step 020500 - train_loss 0.7305 - val_loss 0.4348 \n",
      "epoch 00 - step 021000 - train_loss 0.7238 - val_loss 0.4307 \n",
      "epoch 00 - step 021500 - train_loss 0.7169 - val_loss 0.4348 \n",
      "epoch 00 - step 022000 - train_loss 0.7106 - val_loss 0.4196 \n",
      "epoch 00 - step 022500 - train_loss 0.7046 - val_loss 0.4380 \n",
      "epoch 00 - step 023000 - train_loss 0.6984 - val_loss 0.4213 \n",
      "epoch 00 - step 023500 - train_loss 0.6924 - val_loss 0.4276 \n",
      "epoch 00 - step 024000 - train_loss 0.6870 - val_loss 0.4039 \n",
      "epoch 00 - step 024500 - train_loss 0.6820 - val_loss 0.4173 \n",
      "epoch 00 - step 025000 - train_loss 0.6766 - val_loss 0.4128 \n",
      "epoch 00 - step 025500 - train_loss 0.6718 - val_loss 0.4302 \n",
      "epoch 00 - step 026000 - train_loss 0.6672 - val_loss 0.4124 \n",
      "epoch 00 - step 026500 - train_loss 0.6623 - val_loss 0.3963 \n",
      "epoch 00 - step 027000 - train_loss 0.6578 - val_loss 0.4035 \n",
      "epoch 00 - step 027500 - train_loss 0.6532 - val_loss 0.4312 \n",
      "epoch 00 - step 028000 - train_loss 0.6485 - val_loss 0.4046 \n",
      "epoch 00 - step 028500 - train_loss 0.6444 - val_loss 0.4478 \n",
      "epoch 00 - step 029000 - train_loss 0.6399 - val_loss 0.3874 \n",
      "epoch 00 - step 029500 - train_loss 0.6363 - val_loss 0.3969 \n",
      "epoch 00 - step 030000 - train_loss 0.6323 - val_loss 0.3843 \n",
      "epoch 00 - step 030500 - train_loss 0.6286 - val_loss 0.3790 \n",
      "epoch 00 - step 031000 - train_loss 0.6244 - val_loss 0.3992 \n",
      "epoch 00 - step 031500 - train_loss 0.6210 - val_loss 0.3907 \n",
      "epoch 01 - step 032000 - train_loss 0.3742 - val_loss 0.3890 \n",
      "epoch 01 - step 032500 - train_loss 0.3836 - val_loss 0.3788 \n",
      "epoch 01 - step 033000 - train_loss 0.3799 - val_loss 0.3906 \n",
      "epoch 01 - step 033500 - train_loss 0.3784 - val_loss 0.3745 \n",
      "epoch 01 - step 034000 - train_loss 0.3764 - val_loss 0.3681 \n",
      "epoch 01 - step 034500 - train_loss 0.3753 - val_loss 0.3670 \n",
      "epoch 01 - step 035000 - train_loss 0.3758 - val_loss 0.3797 \n",
      "epoch 01 - step 035500 - train_loss 0.3749 - val_loss 0.3769 \n",
      "epoch 01 - step 036000 - train_loss 0.3752 - val_loss 0.3662 \n",
      "epoch 01 - step 036500 - train_loss 0.3744 - val_loss 0.3643 \n",
      "epoch 01 - step 037000 - train_loss 0.3738 - val_loss 0.3727 \n",
      "epoch 01 - step 037500 - train_loss 0.3736 - val_loss 0.3719 \n",
      "epoch 01 - step 038000 - train_loss 0.3729 - val_loss 0.3732 \n",
      "epoch 01 - step 038500 - train_loss 0.3730 - val_loss 0.3675 \n",
      "epoch 01 - step 039000 - train_loss 0.3716 - val_loss 0.3638 \n",
      "epoch 01 - step 039500 - train_loss 0.3714 - val_loss 0.3635 \n",
      "epoch 01 - step 040000 - train_loss 0.3708 - val_loss 0.3687 \n",
      "epoch 01 - step 040500 - train_loss 0.3698 - val_loss 0.3546 \n",
      "epoch 01 - step 041000 - train_loss 0.3688 - val_loss 0.3580 \n",
      "epoch 01 - step 041500 - train_loss 0.3681 - val_loss 0.3803 \n",
      "epoch 01 - step 042000 - train_loss 0.3677 - val_loss 0.3540 \n",
      "epoch 01 - step 042500 - train_loss 0.3667 - val_loss 0.3530 \n",
      "epoch 01 - step 043000 - train_loss 0.3665 - val_loss 0.3517 \n",
      "epoch 01 - step 043500 - train_loss 0.3661 - val_loss 0.3552 \n",
      "epoch 01 - step 044000 - train_loss 0.3657 - val_loss 0.3471 \n",
      "epoch 01 - step 044500 - train_loss 0.3655 - val_loss 0.3648 \n",
      "epoch 01 - step 045000 - train_loss 0.3652 - val_loss 0.3590 \n",
      "epoch 01 - step 045500 - train_loss 0.3643 - val_loss 0.3568 \n",
      "epoch 01 - step 046000 - train_loss 0.3637 - val_loss 0.4072 \n",
      "epoch 01 - step 046500 - train_loss 0.3630 - val_loss 0.4160 \n",
      "epoch 01 - step 047000 - train_loss 0.3630 - val_loss 0.3657 \n",
      "epoch 01 - step 047500 - train_loss 0.3629 - val_loss 0.3439 \n",
      "epoch 01 - step 048000 - train_loss 0.3622 - val_loss 0.3842 \n",
      "epoch 01 - step 048500 - train_loss 0.3618 - val_loss 0.3474 \n",
      "epoch 01 - step 049000 - train_loss 0.3612 - val_loss 0.3569 \n",
      "epoch 01 - step 049500 - train_loss 0.3609 - val_loss 0.3466 \n",
      "epoch 01 - step 050000 - train_loss 0.3603 - val_loss 0.3579 \n",
      "epoch 01 - step 050500 - train_loss 0.3598 - val_loss 0.3550 \n",
      "epoch 01 - step 051000 - train_loss 0.3594 - val_loss 0.3555 \n",
      "epoch 01 - step 051500 - train_loss 0.3592 - val_loss 0.3453 \n",
      "epoch 01 - step 052000 - train_loss 0.3590 - val_loss 0.3497 \n",
      "epoch 01 - step 052500 - train_loss 0.3588 - val_loss 0.3423 \n",
      "epoch 01 - step 053000 - train_loss 0.3585 - val_loss 0.3557 \n",
      "epoch 01 - step 053500 - train_loss 0.3583 - val_loss 0.3408 \n",
      "epoch 01 - step 054000 - train_loss 0.3578 - val_loss 0.3351 \n",
      "epoch 01 - step 054500 - train_loss 0.3570 - val_loss 0.3443 \n",
      "epoch 01 - step 055000 - train_loss 0.3569 - val_loss 0.3460 \n",
      "epoch 01 - step 055500 - train_loss 0.3567 - val_loss 0.3436 \n",
      "epoch 01 - step 056000 - train_loss 0.3564 - val_loss 0.3459 \n",
      "epoch 01 - step 056500 - train_loss 0.3560 - val_loss 0.3348 \n",
      "epoch 01 - step 057000 - train_loss 0.3555 - val_loss 0.3375 \n",
      "epoch 01 - step 057500 - train_loss 0.3549 - val_loss 0.3359 \n",
      "epoch 01 - step 058000 - train_loss 0.3547 - val_loss 0.3361 \n",
      "epoch 01 - step 058500 - train_loss 0.3541 - val_loss 0.3416 \n",
      "epoch 01 - step 059000 - train_loss 0.3539 - val_loss 0.3694 \n",
      "epoch 01 - step 059500 - train_loss 0.3537 - val_loss 0.3511 \n",
      "epoch 01 - step 060000 - train_loss 0.3536 - val_loss 0.3487 \n",
      "epoch 01 - step 060500 - train_loss 0.3532 - val_loss 0.3380 \n",
      "epoch 01 - step 061000 - train_loss 0.3528 - val_loss 0.3328 \n",
      "epoch 01 - step 061500 - train_loss 0.3526 - val_loss 0.3574 \n",
      "epoch 01 - step 062000 - train_loss 0.3525 - val_loss 0.3335 \n",
      "epoch 01 - step 062500 - train_loss 0.3523 - val_loss 0.3461 \n",
      "epoch 01 - step 063000 - train_loss 0.3518 - val_loss 0.3395 \n",
      "epoch 02 - step 063500 - train_loss 0.3059 - val_loss 0.3247 \n",
      "epoch 02 - step 064000 - train_loss 0.3058 - val_loss 0.3314 \n",
      "epoch 02 - step 064500 - train_loss 0.3078 - val_loss 0.3397 \n",
      "epoch 02 - step 065000 - train_loss 0.3068 - val_loss 0.3272 \n",
      "epoch 02 - step 065500 - train_loss 0.3082 - val_loss 0.3341 \n",
      "epoch 02 - step 066000 - train_loss 0.3100 - val_loss 0.3228 \n",
      "epoch 02 - step 066500 - train_loss 0.3083 - val_loss 0.3335 \n"
     ]
    },
    {
     "name": "stdout",
     "output_type": "stream",
     "text": [
      "epoch 02 - step 067000 - train_loss 0.3081 - val_loss 0.3477 \n",
      "epoch 02 - step 067500 - train_loss 0.3082 - val_loss 0.3393 \n",
      "epoch 02 - step 068000 - train_loss 0.3087 - val_loss 0.3346 \n",
      "epoch 02 - step 068500 - train_loss 0.3090 - val_loss 0.3293 \n",
      "epoch 02 - step 069000 - train_loss 0.3090 - val_loss 0.3293 \n",
      "epoch 02 - step 069500 - train_loss 0.3090 - val_loss 0.3289 \n",
      "epoch 02 - step 070000 - train_loss 0.3091 - val_loss 0.3857 \n",
      "epoch 02 - step 070500 - train_loss 0.3099 - val_loss 0.3333 \n",
      "epoch 02 - step 071000 - train_loss 0.3102 - val_loss 0.3305 \n",
      "epoch 02 - step 071500 - train_loss 0.3105 - val_loss 0.3254 \n",
      "epoch 02 - step 072000 - train_loss 0.3110 - val_loss 0.3300 \n",
      "epoch 02 - step 072500 - train_loss 0.3114 - val_loss 0.3327 \n",
      "epoch 02 - step 073000 - train_loss 0.3117 - val_loss 0.3629 \n",
      "epoch 02 - step 073500 - train_loss 0.3116 - val_loss 0.3601 \n",
      "epoch 02 - step 074000 - train_loss 0.3118 - val_loss 0.3476 \n",
      "epoch 02 - step 074500 - train_loss 0.3117 - val_loss 0.3236 \n",
      "epoch 02 - step 075000 - train_loss 0.3124 - val_loss 0.3351 \n",
      "epoch 02 - step 075500 - train_loss 0.3126 - val_loss 0.3339 \n",
      "epoch 02 - step 076000 - train_loss 0.3124 - val_loss 0.3231 \n",
      "epoch 02 - step 076500 - train_loss 0.3124 - val_loss 0.3334 \n",
      "epoch 02 - step 077000 - train_loss 0.3123 - val_loss 0.3198 \n",
      "epoch 02 - step 077500 - train_loss 0.3119 - val_loss 0.3341 \n",
      "epoch 02 - step 078000 - train_loss 0.3119 - val_loss 0.3310 \n",
      "epoch 02 - step 078500 - train_loss 0.3121 - val_loss 0.3482 \n",
      "epoch 02 - step 079000 - train_loss 0.3116 - val_loss 0.3515 \n",
      "epoch 02 - step 079500 - train_loss 0.3119 - val_loss 0.3354 \n",
      "epoch 02 - step 080000 - train_loss 0.3118 - val_loss 0.3216 \n",
      "epoch 02 - step 080500 - train_loss 0.3117 - val_loss 0.3171 \n",
      "epoch 02 - step 081000 - train_loss 0.3117 - val_loss 0.3158 \n",
      "epoch 02 - step 081500 - train_loss 0.3113 - val_loss 0.3143 \n",
      "epoch 02 - step 082000 - train_loss 0.3112 - val_loss 0.3150 \n",
      "epoch 02 - step 082500 - train_loss 0.3115 - val_loss 0.3332 \n",
      "epoch 02 - step 083000 - train_loss 0.3113 - val_loss 0.3218 \n",
      "epoch 02 - step 083500 - train_loss 0.3113 - val_loss 0.3364 \n",
      "epoch 02 - step 084000 - train_loss 0.3112 - val_loss 0.3410 \n",
      "epoch 02 - step 084500 - train_loss 0.3115 - val_loss 0.3220 \n",
      "epoch 02 - step 085000 - train_loss 0.3116 - val_loss 0.3727 \n",
      "epoch 02 - step 085500 - train_loss 0.3115 - val_loss 0.3315 \n",
      "epoch 02 - step 086000 - train_loss 0.3118 - val_loss 0.3128 \n",
      "epoch 02 - step 086500 - train_loss 0.3116 - val_loss 0.3357 \n",
      "epoch 02 - step 087000 - train_loss 0.3117 - val_loss 0.3196 \n",
      "epoch 02 - step 087500 - train_loss 0.3118 - val_loss 0.3167 \n",
      "epoch 02 - step 088000 - train_loss 0.3118 - val_loss 0.3158 \n",
      "epoch 02 - step 088500 - train_loss 0.3118 - val_loss 0.3157 \n",
      "epoch 02 - step 089000 - train_loss 0.3118 - val_loss 0.3248 \n",
      "epoch 02 - step 089500 - train_loss 0.3118 - val_loss 0.3223 \n",
      "epoch 02 - step 090000 - train_loss 0.3118 - val_loss 0.3191 \n",
      "epoch 02 - step 090500 - train_loss 0.3117 - val_loss 0.3161 \n",
      "epoch 02 - step 091000 - train_loss 0.3114 - val_loss 0.3096 \n",
      "epoch 02 - step 091500 - train_loss 0.3112 - val_loss 0.3179 \n",
      "epoch 02 - step 092000 - train_loss 0.3110 - val_loss 0.3135 \n",
      "epoch 02 - step 092500 - train_loss 0.3110 - val_loss 0.3216 \n",
      "epoch 02 - step 093000 - train_loss 0.3111 - val_loss 0.3214 \n",
      "epoch 02 - step 093500 - train_loss 0.3112 - val_loss 0.3192 \n",
      "epoch 02 - step 094000 - train_loss 0.3110 - val_loss 0.3311 \n",
      "epoch 02 - step 094500 - train_loss 0.3108 - val_loss 0.3198 \n",
      "332.5411785920461\n"
     ]
    },
    {
     "name": "stderr",
     "output_type": "stream",
     "text": [
      "C:\\Users\\Nikita\\anaconda3\\lib\\site-packages\\torch\\serialization.py:256: UserWarning: Couldn't retrieve source code for container of type SimpleLSTM. It won't be checked for correctness upon loading.\n",
      "  \"type \" + obj.__name__ + \". It won't be checked \"\n"
     ]
    }
   ],
   "source": [
    "start = time.time()\n",
    "\n",
    "t_record, v_record = training(model=LSTM_model, teacher_model=bilstm_model, num_epochs=num_epochs, \n",
    "         loss_func=loss_function, optimizer=optimizer, train_iter=train_iter,\n",
    "        val_iter=val_iter)\n",
    "\n",
    "end = time.time()\n",
    "print((end - start)/ 60)"
   ]
  },
  {
   "cell_type": "code",
   "execution_count": 18,
   "metadata": {},
   "outputs": [],
   "source": [
    "t = [ t_record[i]['loss']  for i in range(len(t_record))]\n",
    "v = [ v_record[i]['loss']  for i in range(len(t_record))]\n"
   ]
  },
  {
   "cell_type": "code",
   "execution_count": 19,
   "metadata": {},
   "outputs": [
    {
     "data": {
      "image/png": "[encoded data removed]",
      "text/plain": [
       "<Figure size 432x288 with 1 Axes>"
      ]
     },
     "metadata": {
      "needs_background": "light"
     },
     "output_type": "display_data"
    }
   ],
   "source": [
    "x = np.arange(0, len(t))\n",
    "plt.plot(x, t, 'b', label='Training loss')\n",
    "plt.plot(x, v, 'r', label='Validation loss')\n",
    "plt.title('Training and validation loss')\n",
    "plt.xlabel('Epochs')\n",
    "plt.ylabel('Loss')\n",
    "plt.show()"
   ]
  },
  {
   "cell_type": "code",
   "execution_count": 20,
   "metadata": {},
   "outputs": [],
   "source": [
    "LSTM_model.eval()\n",
    "val_pred = []\n",
    "val_true = []\n",
    "val_iter.init_epoch()\n",
    "for val_batch in iter(val_iter):\n",
    "    val_x = val_batch.text.cuda()\n",
    "    val_true += val_batch.target.data.numpy().tolist()\n",
    "    val_pred += torch.sigmoid(LSTM_model.forward(val_x).view(-1)).cpu().data.numpy().tolist()"
   ]
  },
  {
   "cell_type": "code",
   "execution_count": 22,
   "metadata": {},
   "outputs": [
    {
     "name": "stdout",
     "output_type": "stream",
     "text": [
      "best threshold is 0.2350 with F1 score: 0.6352\n"
     ]
    }
   ],
   "source": [
    "tmp = [0,0,0] \n",
    "delta = 0\n",
    "for tmp[0] in np.arange(0.01, 0.501, 0.001):\n",
    "    tmp[1] = f1_score(val_true, np.array(val_pred)>tmp[0])\n",
    "    if tmp[1] > tmp[2]:\n",
    "        delta = tmp[0]\n",
    "        tmp[2] = tmp[1]\n",
    "print('best threshold is {:.4f} with F1 score: {:.4f}'.format(delta, tmp[2]))"
   ]
  },
  {
   "cell_type": "code",
   "execution_count": null,
   "metadata": {},
   "outputs": [],
   "source": []
  },
  {
   "cell_type": "code",
   "execution_count": null,
   "metadata": {},
   "outputs": [],
   "source": []
  },
  {
   "cell_type": "code",
   "execution_count": null,
   "metadata": {},
   "outputs": [],
   "source": []
  },
  {
   "cell_type": "code",
   "execution_count": null,
   "metadata": {},
   "outputs": [],
   "source": []
  },
  {
   "cell_type": "code",
   "execution_count": null,
   "metadata": {},
   "outputs": [],
   "source": []
  }
 ],
 "metadata": {
  "kernelspec": {
   "display_name": "Python 3",
   "language": "python",
   "name": "python3"
  },
  "language_info": {
   "codemirror_mode": {
    "name": "ipython",
    "version": 3
   },
   "file_extension": ".py",
   "mimetype": "text/x-python",
   "name": "python",
   "nbconvert_exporter": "python",
   "pygments_lexer": "ipython3",
   "version": "3.6.10"
  }
 },
 "nbformat": 4,
 "nbformat_minor": 4
}
