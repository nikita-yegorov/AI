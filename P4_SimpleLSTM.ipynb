{
 "cells": [
  {
   "cell_type": "code",
   "execution_count": 1,
   "metadata": {},
   "outputs": [],
   "source": [
    "import logging\n",
    "from nltk import word_tokenize\n",
    "import pandas as pd\n",
    "import numpy as np\n",
    "import gc\n",
    "import os\n",
    "import torch\n",
    "from torch import nn\n",
    "from torch.autograd import Variable\n",
    "import torch.nn.functional as F\n",
    "from torch.nn.utils.rnn import pad_sequence\n",
    "from sklearn.metrics import f1_score\n",
    "from torch import optim\n",
    "import torchtext\n",
    "import random\n",
    "import matplotlib.pyplot as plt\n",
    "import copy, time\n"
   ]
  },
  {
   "cell_type": "code",
   "execution_count": 2,
   "metadata": {},
   "outputs": [],
   "source": [
    "text = torchtext.data.Field(lower=True, batch_first=True, tokenize=word_tokenize)\n",
    "qid = torchtext.data.Field()\n"
   ]
  },
  {
   "cell_type": "code",
   "execution_count": 3,
   "metadata": {},
   "outputs": [
    {
     "name": "stdout",
     "output_type": "stream",
     "text": [
      "0.34002894163131714\n"
     ]
    }
   ],
   "source": [
    "start = time.time()\n",
    "target = torchtext.data.Field(sequential=False, use_vocab=False, is_target=True)\n",
    "train = torchtext.data.TabularDataset(path='./data/Quora/train.csv', format='csv',\n",
    "                                      fields={'question_text': ('text',text),\n",
    "                                              'target': ('target',target)})\n",
    "test = torchtext.data.TabularDataset(path='./data/Quora/test.csv', format='csv',\n",
    "                                     fields={'qid': ('qid', qid),\n",
    "                                             'question_text': ('text', text)})\n",
    "end = time.time()\n",
    "print((end - start)/ 60)"
   ]
  },
  {
   "cell_type": "code",
   "execution_count": 4,
   "metadata": {},
   "outputs": [],
   "source": [
    "text.build_vocab(train, test, min_freq=3)\n",
    "qid.build_vocab(test)\n",
    "text.vocab.load_vectors(torchtext.vocab.\n",
    "                        Vectors(r'C:\\Users\\Nikita\\PycharmProjects\\Sem_2\\data\\glove.6B.50d.txt'))\n",
    "\n",
    "random.seed(42)\n",
    "train, val = train.split(split_ratio=0.9, random_state=random.getstate())"
   ]
  },
  {
   "cell_type": "code",
   "execution_count": 5,
   "metadata": {},
   "outputs": [],
   "source": [
    "batch_size = 64"
   ]
  },
  {
   "cell_type": "code",
   "execution_count": 6,
   "metadata": {},
   "outputs": [],
   "source": [
    "train_iter = torchtext.data.BucketIterator(dataset=train,\n",
    "                                               batch_size=batch_size,\n",
    "                                               sort_key=lambda x: x.text.__len__(),\n",
    "                                               shuffle=True,\n",
    "                                               sort=False)\n",
    "val_iter = torchtext.data.BucketIterator(dataset=val,\n",
    "                                             batch_size=batch_size,\n",
    "                                             sort_key=lambda x: x.text.__len__(),\n",
    "                                             train=False,\n",
    "                                             sort=False)"
   ]
  },
  {
   "cell_type": "code",
   "execution_count": 7,
   "metadata": {},
   "outputs": [],
   "source": [
    "class SimpleLSTM(nn.Module):\n",
    "    def __init__(self, pretrained_lm, padding_idx,  hidden_dim=128, lstm_layer=2, dropout=0.2):\n",
    "        super().__init__()\n",
    "        self.hidden_dim = hidden_dim\n",
    "        self.embedding = nn.Embedding.from_pretrained(pretrained_lm)\n",
    "        self.embedding.padding_idx = padding_idx\n",
    "        self.embedding.weight.requires_grad = False\n",
    "        self.lstm = nn.LSTM(input_size=self.embedding.embedding_dim,\n",
    "                            hidden_size=hidden_dim,\n",
    "                            num_layers=lstm_layer,)\n",
    "        self.hidden2label = nn.Linear(hidden_dim * lstm_layer , 1)\n",
    "\n",
    "    def forward(self, sents):\n",
    "        x = self.embedding(sents)\n",
    "        x = torch.transpose(x, dim0=1, dim1=0)\n",
    "        lstm_out, (h_n, c_n) = self.lstm(x)\n",
    "        cat = torch.cat([c_n[i, :, :] for i in range(c_n.shape[0])], dim=1)\n",
    "        y = self.hidden2label(cat)\n",
    "        return y"
   ]
  },
  {
   "cell_type": "code",
   "execution_count": 8,
   "metadata": {},
   "outputs": [],
   "source": [
    "def training(num_epochs, model, loss_func, optimizer, train_iter, val_iter):\n",
    "    \n",
    "    step = 0\n",
    "    train_record = []\n",
    "    val_record = []\n",
    "     \n",
    "    for epoch in range(num_epochs):\n",
    "        tr_loss = []\n",
    "        for train_batch in iter(train_iter):\n",
    "            step += 1\n",
    "            model.train()\n",
    "            x = train_batch.text.cuda()\n",
    "            y = train_batch.target.type(torch.Tensor).cuda()\n",
    "            model.zero_grad()\n",
    "            pred = model.forward(x)\n",
    "            loss = loss_function(pred.view(-1), y)\n",
    "            tr_loss.append(loss.cpu().data.numpy())\n",
    "            loss.backward()\n",
    "            optimizer.step()\n",
    "            \n",
    "            if step % 100 == 0 :\n",
    "                model.eval()\n",
    "                model.zero_grad()\n",
    "                val_loss = []\n",
    "                for val_batch in iter(val_iter):\n",
    "                    \n",
    "                    val_x = val_batch.text.cuda()\n",
    "                    val_y = val_batch.target.type(torch.Tensor).cuda()\n",
    "                    val_pred = model.forward(val_x).view(-1)\n",
    "                    val_loss.append(loss_function(val_pred, val_y).cpu().data.numpy())\n",
    "                    \n",
    "                val_record.append({'step': step, 'loss': np.mean(val_loss)})\n",
    "                train_record.append({'step': step, 'loss':  np.mean(tr_loss)})\n",
    "\n",
    "                print('epoch {:02} - step {:06} - train_loss {:.4f} - val_loss {:.4f} '.format(\n",
    "                    epoch, step,  train_record[-1]['loss'], val_record[-1]['loss']))\n",
    "    return train_record, val_record"
   ]
  },
  {
   "cell_type": "code",
   "execution_count": 9,
   "metadata": {},
   "outputs": [],
   "source": [
    "LSTM_model = SimpleLSTM(text.vocab.vectors, lstm_layer=1, padding_idx=text.vocab.stoi[text.pad_token], \n",
    "                        hidden_dim=128).cuda()"
   ]
  },
  {
   "cell_type": "code",
   "execution_count": 10,
   "metadata": {},
   "outputs": [],
   "source": [
    "optimizer = optim.Adam(filter(lambda p: p.requires_grad, LSTM_model.parameters()),\n",
    "                    lr=0.001)"
   ]
  },
  {
   "cell_type": "code",
   "execution_count": 11,
   "metadata": {},
   "outputs": [],
   "source": [
    "loss_function = nn.BCEWithLogitsLoss()"
   ]
  },
  {
   "cell_type": "code",
   "execution_count": 12,
   "metadata": {},
   "outputs": [],
   "source": [
    "num_epochs = 10"
   ]
  },
  {
   "cell_type": "code",
   "execution_count": 13,
   "metadata": {},
   "outputs": [
    {
     "name": "stdout",
     "output_type": "stream",
     "text": [
      "epoch 00 - step 000100 - train_loss 0.2893 - val_loss 0.2488 \n",
      "epoch 00 - step 000200 - train_loss 0.2578 - val_loss 0.2404 \n",
      "epoch 00 - step 000300 - train_loss 0.2463 - val_loss 0.2359 \n",
      "epoch 00 - step 000400 - train_loss 0.2420 - val_loss 0.2499 \n",
      "epoch 00 - step 000500 - train_loss 0.2403 - val_loss 0.2294 \n",
      "epoch 00 - step 000600 - train_loss 0.2402 - val_loss 0.2514 \n",
      "epoch 00 - step 000700 - train_loss 0.2390 - val_loss 0.2450 \n",
      "epoch 00 - step 000800 - train_loss 0.2384 - val_loss 0.2443 \n",
      "epoch 00 - step 000900 - train_loss 0.2371 - val_loss 0.2395 \n",
      "epoch 00 - step 001000 - train_loss 0.2333 - val_loss 0.2229 \n",
      "epoch 01 - step 001100 - train_loss 0.1966 - val_loss 0.1891 \n",
      "epoch 01 - step 001200 - train_loss 0.1916 - val_loss 0.1813 \n",
      "epoch 01 - step 001300 - train_loss 0.1858 - val_loss 0.1849 \n",
      "epoch 01 - step 001400 - train_loss 0.1785 - val_loss 0.1738 \n",
      "epoch 01 - step 001500 - train_loss 0.1733 - val_loss 0.1713 \n",
      "epoch 01 - step 001600 - train_loss 0.1724 - val_loss 0.1720 \n",
      "epoch 01 - step 001700 - train_loss 0.1703 - val_loss 0.1687 \n",
      "epoch 01 - step 001800 - train_loss 0.1674 - val_loss 0.1656 \n",
      "epoch 01 - step 001900 - train_loss 0.1667 - val_loss 0.1703 \n",
      "epoch 01 - step 002000 - train_loss 0.1652 - val_loss 0.1619 \n",
      "epoch 01 - step 002100 - train_loss 0.1645 - val_loss 0.1674 \n",
      "epoch 02 - step 002200 - train_loss 0.1685 - val_loss 0.1610 \n",
      "epoch 02 - step 002300 - train_loss 0.1631 - val_loss 0.1609 \n",
      "epoch 02 - step 002400 - train_loss 0.1578 - val_loss 0.1577 \n",
      "epoch 02 - step 002500 - train_loss 0.1556 - val_loss 0.1634 \n",
      "epoch 02 - step 002600 - train_loss 0.1568 - val_loss 0.1587 \n",
      "epoch 02 - step 002700 - train_loss 0.1565 - val_loss 0.1586 \n",
      "epoch 02 - step 002800 - train_loss 0.1559 - val_loss 0.1665 \n",
      "epoch 02 - step 002900 - train_loss 0.1528 - val_loss 0.1552 \n",
      "epoch 02 - step 003000 - train_loss 0.1521 - val_loss 0.1641 \n",
      "epoch 02 - step 003100 - train_loss 0.1514 - val_loss 0.1701 \n",
      "epoch 03 - step 003200 - train_loss 0.1483 - val_loss 0.1590 \n",
      "epoch 03 - step 003300 - train_loss 0.1411 - val_loss 0.1521 \n",
      "epoch 03 - step 003400 - train_loss 0.1473 - val_loss 0.1532 \n",
      "epoch 03 - step 003500 - train_loss 0.1450 - val_loss 0.1539 \n",
      "epoch 03 - step 003600 - train_loss 0.1428 - val_loss 0.1504 \n",
      "epoch 03 - step 003700 - train_loss 0.1443 - val_loss 0.1578 \n",
      "epoch 03 - step 003800 - train_loss 0.1454 - val_loss 0.1500 \n",
      "epoch 03 - step 003900 - train_loss 0.1444 - val_loss 0.1499 \n",
      "epoch 03 - step 004000 - train_loss 0.1439 - val_loss 0.1479 \n",
      "epoch 03 - step 004100 - train_loss 0.1440 - val_loss 0.1468 \n",
      "epoch 03 - step 004200 - train_loss 0.1441 - val_loss 0.1491 \n",
      "epoch 04 - step 004300 - train_loss 0.1356 - val_loss 0.1530 \n",
      "epoch 04 - step 004400 - train_loss 0.1337 - val_loss 0.1452 \n",
      "epoch 04 - step 004500 - train_loss 0.1388 - val_loss 0.1650 \n",
      "epoch 04 - step 004600 - train_loss 0.1407 - val_loss 0.1559 \n",
      "epoch 04 - step 004700 - train_loss 0.1412 - val_loss 0.1451 \n",
      "epoch 04 - step 004800 - train_loss 0.1409 - val_loss 0.1446 \n",
      "epoch 04 - step 004900 - train_loss 0.1406 - val_loss 0.1493 \n",
      "epoch 04 - step 005000 - train_loss 0.1399 - val_loss 0.1474 \n",
      "epoch 04 - step 005100 - train_loss 0.1393 - val_loss 0.1456 \n",
      "epoch 04 - step 005200 - train_loss 0.1390 - val_loss 0.1455 \n",
      "epoch 05 - step 005300 - train_loss 0.0940 - val_loss 0.1493 \n",
      "epoch 05 - step 005400 - train_loss 0.1333 - val_loss 0.1449 \n",
      "epoch 05 - step 005500 - train_loss 0.1281 - val_loss 0.1526 \n",
      "epoch 05 - step 005600 - train_loss 0.1297 - val_loss 0.1442 \n",
      "epoch 05 - step 005700 - train_loss 0.1298 - val_loss 0.1445 \n",
      "epoch 05 - step 005800 - train_loss 0.1309 - val_loss 0.1419 \n",
      "epoch 05 - step 005900 - train_loss 0.1309 - val_loss 0.1416 \n",
      "epoch 05 - step 006000 - train_loss 0.1323 - val_loss 0.1434 \n",
      "epoch 05 - step 006100 - train_loss 0.1336 - val_loss 0.1432 \n",
      "epoch 05 - step 006200 - train_loss 0.1326 - val_loss 0.1493 \n",
      "epoch 05 - step 006300 - train_loss 0.1332 - val_loss 0.1404 \n",
      "epoch 06 - step 006400 - train_loss 0.1354 - val_loss 0.1424 \n",
      "epoch 06 - step 006500 - train_loss 0.1218 - val_loss 0.1444 \n",
      "epoch 06 - step 006600 - train_loss 0.1251 - val_loss 0.1457 \n",
      "epoch 06 - step 006700 - train_loss 0.1265 - val_loss 0.1459 \n",
      "epoch 06 - step 006800 - train_loss 0.1295 - val_loss 0.1413 \n",
      "epoch 06 - step 006900 - train_loss 0.1302 - val_loss 0.1397 \n",
      "epoch 06 - step 007000 - train_loss 0.1309 - val_loss 0.1397 \n",
      "epoch 06 - step 007100 - train_loss 0.1309 - val_loss 0.1405 \n",
      "epoch 06 - step 007200 - train_loss 0.1308 - val_loss 0.1471 \n",
      "epoch 06 - step 007300 - train_loss 0.1311 - val_loss 0.1466 \n",
      "epoch 06 - step 007400 - train_loss 0.1306 - val_loss 0.1378 \n",
      "epoch 07 - step 007500 - train_loss 0.1328 - val_loss 0.1448 \n",
      "epoch 07 - step 007600 - train_loss 0.1303 - val_loss 0.1390 \n",
      "epoch 07 - step 007700 - train_loss 0.1315 - val_loss 0.1418 \n",
      "epoch 07 - step 007800 - train_loss 0.1294 - val_loss 0.1399 \n",
      "epoch 07 - step 007900 - train_loss 0.1285 - val_loss 0.1390 \n",
      "epoch 07 - step 008000 - train_loss 0.1270 - val_loss 0.1391 \n",
      "epoch 07 - step 008100 - train_loss 0.1290 - val_loss 0.1389 \n",
      "epoch 07 - step 008200 - train_loss 0.1297 - val_loss 0.1397 \n",
      "epoch 07 - step 008300 - train_loss 0.1286 - val_loss 0.1524 \n",
      "epoch 07 - step 008400 - train_loss 0.1278 - val_loss 0.1357 \n",
      "epoch 08 - step 008500 - train_loss 0.1221 - val_loss 0.1407 \n",
      "epoch 08 - step 008600 - train_loss 0.1247 - val_loss 0.1374 \n",
      "epoch 08 - step 008700 - train_loss 0.1254 - val_loss 0.1355 \n",
      "epoch 08 - step 008800 - train_loss 0.1239 - val_loss 0.1438 \n",
      "epoch 08 - step 008900 - train_loss 0.1240 - val_loss 0.1381 \n",
      "epoch 08 - step 009000 - train_loss 0.1234 - val_loss 0.1377 \n",
      "epoch 08 - step 009100 - train_loss 0.1230 - val_loss 0.1445 \n",
      "epoch 08 - step 009200 - train_loss 0.1246 - val_loss 0.1532 \n",
      "epoch 08 - step 009300 - train_loss 0.1246 - val_loss 0.1364 \n",
      "epoch 08 - step 009400 - train_loss 0.1247 - val_loss 0.1353 \n",
      "epoch 08 - step 009500 - train_loss 0.1242 - val_loss 0.1347 \n",
      "epoch 09 - step 009600 - train_loss 0.1270 - val_loss 0.1360 \n",
      "epoch 09 - step 009700 - train_loss 0.1224 - val_loss 0.1461 \n",
      "epoch 09 - step 009800 - train_loss 0.1209 - val_loss 0.1348 \n",
      "epoch 09 - step 009900 - train_loss 0.1199 - val_loss 0.1425 \n",
      "epoch 09 - step 010000 - train_loss 0.1191 - val_loss 0.1356 \n",
      "epoch 09 - step 010100 - train_loss 0.1206 - val_loss 0.1353 \n",
      "epoch 09 - step 010200 - train_loss 0.1203 - val_loss 0.1395 \n",
      "epoch 09 - step 010300 - train_loss 0.1215 - val_loss 0.1362 \n",
      "epoch 09 - step 010400 - train_loss 0.1212 - val_loss 0.1357 \n",
      "epoch 09 - step 010500 - train_loss 0.1211 - val_loss 0.1377 \n",
      "7.106146641572317\n"
     ]
    }
   ],
   "source": [
    "start = time.time()\n",
    "\n",
    "t_record, v_record = training(model=LSTM_model, num_epochs=num_epochs, \n",
    "         loss_func = loss_function, optimizer=optimizer, train_iter=train_iter,\n",
    "        val_iter=val_iter)\n",
    "\n",
    "end = time.time()\n",
    "print((end - start)/ 60)"
   ]
  },
  {
   "cell_type": "code",
   "execution_count": 17,
   "metadata": {},
   "outputs": [
    {
     "data": {
      "text/plain": [
       "(105, 105)"
      ]
     },
     "execution_count": 17,
     "metadata": {},
     "output_type": "execute_result"
    }
   ],
   "source": [
    "t = [ t_record[i]['loss']  for i in range(len(t_record))]\n",
    "v = [ v_record[i]['loss']  for i in range(len(t_record))]\n",
    "len(v), len(t)"
   ]
  },
  {
   "cell_type": "code",
   "execution_count": 18,
   "metadata": {},
   "outputs": [
    {
     "data": {
      "image/png": "[encoded data removed]",
      "text/plain": [
       "<Figure size 432x288 with 1 Axes>"
      ]
     },
     "metadata": {
      "needs_background": "light"
     },
     "output_type": "display_data"
    }
   ],
   "source": [
    "x = np.arange(0, len(t))\n",
    "plt.plot(x, t, 'b', label='Training loss')\n",
    "plt.plot(x, v, 'r', label='Validation loss')\n",
    "plt.title('Training and validation loss')\n",
    "plt.xlabel('Epochs')\n",
    "plt.ylabel('Loss')\n",
    "plt.show()"
   ]
  },
  {
   "cell_type": "code",
   "execution_count": 21,
   "metadata": {},
   "outputs": [],
   "source": [
    "LSTM_model.eval()\n",
    "val_pred = []\n",
    "val_true = []\n",
    "val_iter.init_epoch()\n",
    "for val_batch in iter(val_iter):\n",
    "    val_x = val_batch.text.cuda()\n",
    "    val_true += val_batch.target.data.numpy().tolist()\n",
    "    val_pred += torch.sigmoid(LSTM_model.forward(val_x).view(-1)).cpu().data.numpy().tolist()"
   ]
  },
  {
   "cell_type": "code",
   "execution_count": 22,
   "metadata": {},
   "outputs": [
    {
     "name": "stdout",
     "output_type": "stream",
     "text": [
      "best threshold is 0.3100 with F1 score: 0.6172\n"
     ]
    }
   ],
   "source": [
    "tmp = [0,0,0] \n",
    "delta = 0\n",
    "for tmp[0] in np.arange(0.1, 0.501, 0.01):\n",
    "    tmp[1] = f1_score(val_true, np.array(val_pred)>tmp[0])\n",
    "    if tmp[1] > tmp[2]:\n",
    "        delta = tmp[0]\n",
    "        tmp[2] = tmp[1]\n",
    "print('best threshold is {:.4f} with F1 score: {:.4f}'.format(delta, tmp[2]))"
   ]
  },
  {
   "cell_type": "code",
   "execution_count": null,
   "metadata": {},
   "outputs": [],
   "source": []
  },
  {
   "cell_type": "code",
   "execution_count": null,
   "metadata": {},
   "outputs": [],
   "source": []
  },
  {
   "cell_type": "code",
   "execution_count": null,
   "metadata": {},
   "outputs": [],
   "source": []
  },
  {
   "cell_type": "code",
   "execution_count": null,
   "metadata": {},
   "outputs": [],
   "source": []
  },
  {
   "cell_type": "code",
   "execution_count": null,
   "metadata": {},
   "outputs": [],
   "source": []
  },
  {
   "cell_type": "code",
   "execution_count": null,
   "metadata": {},
   "outputs": [],
   "source": []
  }
 ],
 "metadata": {
  "kernelspec": {
   "display_name": "Python 3",
   "language": "python",
   "name": "python3"
  },
  "language_info": {
   "codemirror_mode": {
    "name": "ipython",
    "version": 3
   },
   "file_extension": ".py",
   "mimetype": "text/x-python",
   "name": "python",
   "nbconvert_exporter": "python",
   "pygments_lexer": "ipython3",
   "version": "3.6.10"
  }
 },
 "nbformat": 4,
 "nbformat_minor": 4
}
